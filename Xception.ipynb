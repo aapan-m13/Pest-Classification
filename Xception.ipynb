{
  "cells": [
    {
      "cell_type": "code",
      "execution_count": null,
      "metadata": {
        "id": "KXwuTlIsoTfQ"
      },
      "outputs": [],
      "source": [
        "import os\n",
        "\n",
        "from tensorflow.keras import layers\n",
        "from tensorflow.keras import Model"
      ]
    },
    {
      "cell_type": "code",
      "source": [
        "from google.colab import drive\n",
        "drive.mount('/content/drive')"
      ],
      "metadata": {
        "colab": {
          "base_uri": "https://localhost:8080/"
        },
        "id": "hcqll8gXooPL",
        "outputId": "b63c2271-b5fc-481b-d2aa-442020d68af1"
      },
      "execution_count": null,
      "outputs": [
        {
          "output_type": "stream",
          "name": "stdout",
          "text": [
            "Drive already mounted at /content/drive; to attempt to forcibly remount, call drive.mount(\"/content/drive\", force_remount=True).\n"
          ]
        }
      ]
    },
    {
      "cell_type": "code",
      "source": [
        "import os, sys\n",
        "import random\n",
        "import math\n",
        "import numpy as np\n",
        "import skimage.io\n",
        "import skimage.transform\n",
        "import matplotlib\n",
        "import matplotlib.pyplot as plt\n",
        "import glob\n",
        "from skimage.color import rgb2gray\n",
        "from skimage import feature\n",
        "import cv2\n",
        "from sklearn.svm import LinearSVC\n",
        "from google.colab.patches import cv2_imshow\n",
        "from tqdm import tqdm\n",
        "import copy\n",
        "from skimage.io import imread\n",
        "from skimage.transform import resize\n",
        "import pandas as pd"
      ],
      "metadata": {
        "id": "8WhuK-vWovkE"
      },
      "execution_count": null,
      "outputs": []
    },
    {
      "cell_type": "code",
      "source": [
        "DATADIR = \"/content/drive/My Drive/pestdet/Dataset\"\n",
        "CATEGORIES = [\"Brown Plant Hopper\", \"Rice Gall Midge\", \"Rice Leaf Hopper\", \"Rice Leaf Roller\", \"Stem Borer\"]"
      ],
      "metadata": {
        "id": "GaU9i-Ogozko"
      },
      "execution_count": null,
      "outputs": []
    },
    {
      "cell_type": "code",
      "source": [
        "%load_ext tensorboard"
      ],
      "metadata": {
        "id": "0-tbC3Qco3yo",
        "colab": {
          "base_uri": "https://localhost:8080/"
        },
        "outputId": "8435a659-f67c-4e87-9875-dec36aa62c2b"
      },
      "execution_count": null,
      "outputs": [
        {
          "output_type": "stream",
          "name": "stdout",
          "text": [
            "The tensorboard extension is already loaded. To reload it, use:\n",
            "  %reload_ext tensorboard\n"
          ]
        }
      ]
    },
    {
      "cell_type": "code",
      "source": [
        "import os\n",
        "import zipfile\n",
        "\n",
        "from tensorflow.keras.preprocessing.image import ImageDataGenerator\n",
        "\n",
        "train_dir = os.path.join(DATADIR, 'Train')\n",
        "validation_dir = os.path.join(DATADIR, 'Valid')\n",
        "test_dir = os.path.join(DATADIR, 'Test')"
      ],
      "metadata": {
        "id": "4PRFvhzoo9b7"
      },
      "execution_count": null,
      "outputs": []
    },
    {
      "cell_type": "code",
      "source": [
        "train_datagen = ImageDataGenerator(\n",
        "    rescale=1./255,\n",
        "    rotation_range=40,\n",
        "    width_shift_range=0.2,\n",
        "    height_shift_range=0.2,\n",
        "    shear_range=0.2,\n",
        "    zoom_range=0.2,\n",
        "    horizontal_flip=True)"
      ],
      "metadata": {
        "id": "gWJqKD7vpK72"
      },
      "execution_count": null,
      "outputs": []
    },
    {
      "cell_type": "code",
      "source": [
        "val_datagen = ImageDataGenerator(rescale=1./255)\n",
        "\n",
        "test_datagen = ImageDataGenerator(rescale=1./255)\n",
        "\n",
        "train_generator = train_datagen.flow_from_directory(\n",
        "        train_dir, # This is the source directory for training images\n",
        "        target_size=(150, 150),  # All images will be resized to 150x150\n",
        "        batch_size=20)\n",
        "        \n",
        "# Flow validation images in batches of 20 using val_datagen generator\n",
        "validation_generator = val_datagen.flow_from_directory(\n",
        "        validation_dir,\n",
        "        target_size=(150, 150),\n",
        "        batch_size=20)\n",
        "\n",
        "test_generator = test_datagen.flow_from_directory(\n",
        "        test_dir,\n",
        "        target_size=(150, 150),\n",
        "        batch_size=20)"
      ],
      "metadata": {
        "colab": {
          "base_uri": "https://localhost:8080/"
        },
        "id": "GaTw5nfKpTwu",
        "outputId": "aeeaa852-2203-4788-8bf8-1ff488aac8b1"
      },
      "execution_count": null,
      "outputs": [
        {
          "output_type": "stream",
          "name": "stdout",
          "text": [
            "Found 1400 images belonging to 5 classes.\n",
            "Found 100 images belonging to 5 classes.\n",
            "Found 25 images belonging to 5 classes.\n"
          ]
        }
      ]
    },
    {
      "cell_type": "code",
      "source": [
        "!wget --no-check-certificate \\\n",
        "    https://storage.googleapis.com/tensorflow/keras-applications/xception/xception_weights_tf_dim_ordering_tf_kernels_notop.h5 \\\n",
        "    -O /tmp/xception_weights_tf_dim_ordering_tf_kernels_notop.h5"
      ],
      "metadata": {
        "colab": {
          "base_uri": "https://localhost:8080/"
        },
        "id": "aH8ZtOePpgdd",
        "outputId": "2a8a6af3-e303-42e7-a198-047a131374d6"
      },
      "execution_count": null,
      "outputs": [
        {
          "output_type": "stream",
          "name": "stdout",
          "text": [
            "--2022-01-17 11:14:02--  https://storage.googleapis.com/tensorflow/keras-applications/xception/xception_weights_tf_dim_ordering_tf_kernels_notop.h5\n",
            "Resolving storage.googleapis.com (storage.googleapis.com)... 172.217.13.80, 172.217.13.240, 172.217.15.80, ...\n",
            "Connecting to storage.googleapis.com (storage.googleapis.com)|172.217.13.80|:443... connected.\n",
            "HTTP request sent, awaiting response... 200 OK\n",
            "Length: 83683744 (80M) [application/octet-stream]\n",
            "Saving to: ‘/tmp/xception_weights_tf_dim_ordering_tf_kernels_notop.h5’\n",
            "\n",
            "/tmp/xception_weigh 100%[===================>]  79.81M   228MB/s    in 0.4s    \n",
            "\n",
            "2022-01-17 11:14:03 (228 MB/s) - ‘/tmp/xception_weights_tf_dim_ordering_tf_kernels_notop.h5’ saved [83683744/83683744]\n",
            "\n"
          ]
        }
      ]
    },
    {
      "cell_type": "code",
      "source": [
        "from tensorflow.keras.applications.xception import Xception\n",
        "\n",
        "local_weights_file = '/tmp/xception_weights_tf_dim_ordering_tf_kernels_notop.h5'\n",
        "pre_trained_model = Xception(\n",
        "    input_shape=(150, 150,3), include_top=False, weights='imagenet')\n",
        "pre_trained_model.load_weights(local_weights_file)"
      ],
      "metadata": {
        "id": "sNNdhqudtRt8"
      },
      "execution_count": null,
      "outputs": []
    },
    {
      "cell_type": "code",
      "source": [
        "for layer in pre_trained_model.layers:\n",
        "  layer.trainable = False"
      ],
      "metadata": {
        "id": "XrUMJtvptsM5"
      },
      "execution_count": null,
      "outputs": []
    },
    {
      "cell_type": "code",
      "source": [
        "last_layer = pre_trained_model.layers[-1]\n",
        "print('last layer output shape:', last_layer.output_shape)\n",
        "last_output = last_layer.output"
      ],
      "metadata": {
        "colab": {
          "base_uri": "https://localhost:8080/"
        },
        "id": "TcyQPxHxttW-",
        "outputId": "5dbc32df-fe67-4da9-86b1-aa546f5cddbc"
      },
      "execution_count": null,
      "outputs": [
        {
          "output_type": "stream",
          "name": "stdout",
          "text": [
            "last layer output shape: (None, 5, 5, 2048)\n"
          ]
        }
      ]
    },
    {
      "cell_type": "code",
      "source": [
        "from keras import backend as K\n",
        "\n",
        "K.clear_session()"
      ],
      "metadata": {
        "id": "yeS5WLUfbtKR"
      },
      "execution_count": null,
      "outputs": []
    },
    {
      "cell_type": "code",
      "source": [
        "from tensorflow.keras.optimizers import RMSprop\n",
        "#x = pre_trained_model.output\n",
        "# Flatten the output layer to 1 dimension\n",
        "x = layers.Flatten()(last_output)\n",
        "\n",
        "#x=GlobalAveragePooling2D()(x)\n",
        "# Add a fully connected layer with 1,024 hidden units and ReLU activation\n",
        "x = layers.Dense(1024, activation='relu')(x)\n",
        "# Add a dropout rate of 0.2\n",
        "x = layers.Dropout(0.5)(x)\n",
        "# Add a final sigmoid layer for classification\n",
        "x = layers.Dense(5, activation='softmax')(x)\n",
        "\n",
        "# Configure and compile the model\n",
        "model = Model(pre_trained_model.input, x)\n",
        "model.compile(loss='categorical_crossentropy',\n",
        "              optimizer=RMSprop(learning_rate=0.0001),\n",
        "              metrics=['acc'])"
      ],
      "metadata": {
        "id": "PWB-s5eetwtr"
      },
      "execution_count": null,
      "outputs": []
    },
    {
      "cell_type": "code",
      "source": [
        "from tensorflow import keras\n",
        "callbacks_list = [\n",
        "    keras.callbacks.ModelCheckpoint(\n",
        "        filepath='xception.h5',\n",
        "        monitor='val_loss', save_best_only=True, verbose=1),\n",
        "    #keras.callbacks.EarlyStopping(monitor='val_loss', patience=10,verbose=1)\n",
        "]"
      ],
      "metadata": {
        "id": "tQzHpEw5u-Cl"
      },
      "execution_count": null,
      "outputs": []
    },
    {
      "cell_type": "code",
      "source": [
        "history = model.fit(\n",
        "      train_generator,\n",
        "      steps_per_epoch=20,\n",
        "      epochs=16,\n",
        "      validation_data=validation_generator,\n",
        "      validation_steps=5,\n",
        "      verbose=1,\n",
        "      callbacks = callbacks_list)"
      ],
      "metadata": {
        "colab": {
          "base_uri": "https://localhost:8080/"
        },
        "id": "fttbcpuqt9L5",
        "outputId": "e6153874-1fa0-4ad3-e527-204a3f45ffc7"
      },
      "execution_count": null,
      "outputs": [
        {
          "output_type": "stream",
          "name": "stdout",
          "text": [
            "Epoch 1/16\n",
            "20/20 [==============================] - ETA: 0s - loss: 5.1214 - acc: 0.4275\n",
            "Epoch 00001: val_loss improved from inf to 1.31688, saving model to xception.h5\n"
          ]
        },
        {
          "output_type": "stream",
          "name": "stderr",
          "text": [
            "/usr/local/lib/python3.7/dist-packages/keras/engine/functional.py:1410: CustomMaskWarning: Custom mask layers require a config and must override get_config. When loading, the custom mask layer must be passed to the custom_objects argument.\n",
            "  layer_config = serialize_layer_fn(layer)\n"
          ]
        },
        {
          "output_type": "stream",
          "name": "stdout",
          "text": [
            "\b\b\b\b\b\b\b\b\b\b\b\b\b\b\b\b\b\b\b\b\b\b\b\b\b\b\b\b\b\b\b\b\b\b\b\b\b\b\b\b\b\b\b\b\b\b\b\b\b\b\b\b\b\b\b\b\b\b\b\b\b\b\b\b\b\b\b\b\b\b\b\b\b\b\b\b\b\r20/20 [==============================] - 114s 6s/step - loss: 5.1214 - acc: 0.4275 - val_loss: 1.3169 - val_acc: 0.6300\n",
            "Epoch 2/16\n",
            "20/20 [==============================] - ETA: 0s - loss: 1.7858 - acc: 0.5800\n",
            "Epoch 00002: val_loss improved from 1.31688 to 1.09284, saving model to xception.h5\n",
            "20/20 [==============================] - 72s 4s/step - loss: 1.7858 - acc: 0.5800 - val_loss: 1.0928 - val_acc: 0.7000\n",
            "Epoch 3/16\n",
            "20/20 [==============================] - ETA: 0s - loss: 1.3843 - acc: 0.6175\n",
            "Epoch 00003: val_loss improved from 1.09284 to 0.54966, saving model to xception.h5\n",
            "20/20 [==============================] - 57s 3s/step - loss: 1.3843 - acc: 0.6175 - val_loss: 0.5497 - val_acc: 0.7700\n",
            "Epoch 4/16\n",
            "20/20 [==============================] - ETA: 0s - loss: 1.2774 - acc: 0.6600\n",
            "Epoch 00004: val_loss did not improve from 0.54966\n",
            "20/20 [==============================] - 54s 3s/step - loss: 1.2774 - acc: 0.6600 - val_loss: 0.5738 - val_acc: 0.7800\n",
            "Epoch 5/16\n",
            "20/20 [==============================] - ETA: 0s - loss: 1.2032 - acc: 0.6650\n",
            "Epoch 00005: val_loss improved from 0.54966 to 0.51825, saving model to xception.h5\n",
            "20/20 [==============================] - 49s 2s/step - loss: 1.2032 - acc: 0.6650 - val_loss: 0.5182 - val_acc: 0.8000\n",
            "Epoch 6/16\n",
            "20/20 [==============================] - ETA: 0s - loss: 1.1772 - acc: 0.6825\n",
            "Epoch 00006: val_loss did not improve from 0.51825\n",
            "20/20 [==============================] - 48s 2s/step - loss: 1.1772 - acc: 0.6825 - val_loss: 0.6846 - val_acc: 0.7300\n",
            "Epoch 7/16\n",
            "20/20 [==============================] - ETA: 0s - loss: 1.1148 - acc: 0.6950\n",
            "Epoch 00007: val_loss did not improve from 0.51825\n",
            "20/20 [==============================] - 47s 2s/step - loss: 1.1148 - acc: 0.6950 - val_loss: 0.5186 - val_acc: 0.8100\n",
            "Epoch 8/16\n",
            "20/20 [==============================] - ETA: 0s - loss: 1.0799 - acc: 0.6975\n",
            "Epoch 00008: val_loss improved from 0.51825 to 0.45895, saving model to xception.h5\n",
            "20/20 [==============================] - 49s 2s/step - loss: 1.0799 - acc: 0.6975 - val_loss: 0.4589 - val_acc: 0.8300\n",
            "Epoch 9/16\n",
            "20/20 [==============================] - ETA: 0s - loss: 1.1096 - acc: 0.6950\n",
            "Epoch 00009: val_loss did not improve from 0.45895\n",
            "20/20 [==============================] - 47s 2s/step - loss: 1.1096 - acc: 0.6950 - val_loss: 0.5618 - val_acc: 0.8200\n",
            "Epoch 10/16\n",
            "20/20 [==============================] - ETA: 0s - loss: 1.0827 - acc: 0.7025\n",
            "Epoch 00010: val_loss did not improve from 0.45895\n",
            "20/20 [==============================] - 47s 2s/step - loss: 1.0827 - acc: 0.7025 - val_loss: 0.5288 - val_acc: 0.8100\n",
            "Epoch 11/16\n",
            "20/20 [==============================] - ETA: 0s - loss: 0.9989 - acc: 0.7225\n",
            "Epoch 00011: val_loss improved from 0.45895 to 0.34638, saving model to xception.h5\n",
            "20/20 [==============================] - 48s 2s/step - loss: 0.9989 - acc: 0.7225 - val_loss: 0.3464 - val_acc: 0.8800\n",
            "Epoch 12/16\n",
            "20/20 [==============================] - ETA: 0s - loss: 0.9547 - acc: 0.7000\n",
            "Epoch 00012: val_loss did not improve from 0.34638\n",
            "20/20 [==============================] - 48s 2s/step - loss: 0.9547 - acc: 0.7000 - val_loss: 0.3835 - val_acc: 0.8500\n",
            "Epoch 13/16\n",
            "20/20 [==============================] - ETA: 0s - loss: 0.9689 - acc: 0.7350\n",
            "Epoch 00013: val_loss did not improve from 0.34638\n",
            "20/20 [==============================] - 47s 2s/step - loss: 0.9689 - acc: 0.7350 - val_loss: 0.6018 - val_acc: 0.8400\n",
            "Epoch 14/16\n",
            "20/20 [==============================] - ETA: 0s - loss: 0.7510 - acc: 0.7700\n",
            "Epoch 00014: val_loss did not improve from 0.34638\n",
            "20/20 [==============================] - 47s 2s/step - loss: 0.7510 - acc: 0.7700 - val_loss: 0.4150 - val_acc: 0.8700\n",
            "Epoch 15/16\n",
            "20/20 [==============================] - ETA: 0s - loss: 0.7077 - acc: 0.7950\n",
            "Epoch 00015: val_loss did not improve from 0.34638\n",
            "20/20 [==============================] - 47s 2s/step - loss: 0.7077 - acc: 0.7950 - val_loss: 0.3817 - val_acc: 0.9100\n",
            "Epoch 16/16\n",
            "20/20 [==============================] - ETA: 0s - loss: 0.7446 - acc: 0.7500\n",
            "Epoch 00016: val_loss did not improve from 0.34638\n",
            "20/20 [==============================] - 47s 2s/step - loss: 0.7446 - acc: 0.7500 - val_loss: 0.6115 - val_acc: 0.8200\n"
          ]
        }
      ]
    },
    {
      "cell_type": "code",
      "source": [
        "import matplotlib.pyplot as plt\n",
        "\n",
        "history_dict = history.history\n",
        "loss_values = history_dict['loss']\n",
        "val_loss_values = history_dict['val_loss']\n",
        "\n",
        "epochs_x = range(1, len(loss_values) + 1)\n",
        "plt.figure(figsize=(10,10))\n",
        "plt.subplot(2,1,1)\n",
        "plt.plot(epochs_x, loss_values, 'bo', label='Training loss')\n",
        "plt.plot(epochs_x, val_loss_values, 'b', label='Validation loss')\n",
        "plt.title('Training and validation Loss and Accuracy')\n",
        "plt.xlabel('Epochs')\n",
        "plt.ylabel('Loss')\n",
        "#plt.legend()\n",
        "plt.subplot(2,1,2)\n",
        "acc_values = history_dict['acc']\n",
        "val_acc_values = history_dict['val_acc']\n",
        "plt.plot(epochs_x, acc_values, 'bo', label='Training acc')\n",
        "plt.plot(epochs_x, val_acc_values, 'b', label='Validation acc')\n",
        "#plt.title('Training and validation accuracy')\n",
        "plt.xlabel('Epochs')\n",
        "plt.ylabel('Acc')\n",
        "plt.legend()\n",
        "plt.show()"
      ],
      "metadata": {
        "colab": {
          "base_uri": "https://localhost:8080/",
          "height": 621
        },
        "id": "X34SVykRn5Gb",
        "outputId": "41955aec-502b-4705-dbc6-887b0fa320c9"
      },
      "execution_count": null,
      "outputs": [
        {
          "output_type": "display_data",
          "data": {
            "image/png": "[encoded data removed]",
            "text/plain": [
              "<Figure size 720x720 with 2 Axes>"
            ]
          },
          "metadata": {
            "needs_background": "light"
          }
        }
      ]
    },
    {
      "cell_type": "code",
      "source": [
        "from tensorflow.keras.models import load_model\n",
        "# Load the best saved model\n",
        "model = load_model('xception.h5')"
      ],
      "metadata": {
        "id": "zX6RtLR9oH_X"
      },
      "execution_count": null,
      "outputs": []
    },
    {
      "cell_type": "code",
      "source": [
        "# Using the validation dataset\n",
        "score = model.evaluate(validation_generator)\n",
        "print('Val loss:', score[0])\n",
        "print('Val accuracy:', score[1])"
      ],
      "metadata": {
        "colab": {
          "base_uri": "https://localhost:8080/"
        },
        "id": "37P2SlTYpHPV",
        "outputId": "9d079d12-07d6-44e8-b5a8-651096a8c68a"
      },
      "execution_count": null,
      "outputs": [
        {
          "output_type": "stream",
          "name": "stdout",
          "text": [
            "5/5 [==============================] - 8s 1s/step - loss: 0.3464 - acc: 0.8800\n",
            "Val loss: 0.3463784158229828\n",
            "Val accuracy: 0.8799999952316284\n"
          ]
        }
      ]
    },
    {
      "cell_type": "code",
      "source": [
        "# Using the test dataset\n",
        "score = model.evaluate(test_generator)\n",
        "print('Test loss:', score[0])\n",
        "print('Test accuracy:', score[1])"
      ],
      "metadata": {
        "colab": {
          "base_uri": "https://localhost:8080/"
        },
        "id": "tJyaYYKbpJ7A",
        "outputId": "b35f2237-0ca9-4f73-b132-b55c3984dff2"
      },
      "execution_count": null,
      "outputs": [
        {
          "output_type": "stream",
          "name": "stdout",
          "text": [
            "2/2 [==============================] - 2s 409ms/step - loss: 0.0219 - acc: 1.0000\n",
            "Test loss: 0.02186591923236847\n",
            "Test accuracy: 1.0\n"
          ]
        }
      ]
    },
    {
      "cell_type": "code",
      "source": [
        "import itertools\n",
        "\n",
        "#Plot the confusion matrix. Set Normalize = True/False\n",
        "def plot_confusion_matrix(cm, classes, normalize=True, title='Confusion matrix', cmap=plt.cm.Blues):\n",
        "    \"\"\"\n",
        "    This function prints and plots the confusion matrix.\n",
        "    Normalization can be applied by setting `normalize=True`.\n",
        "    \"\"\"\n",
        "    plt.figure(figsize=(10,10))\n",
        "    plt.imshow(cm, interpolation='nearest', cmap=cmap)\n",
        "    plt.title(title)\n",
        "    plt.colorbar()\n",
        "    tick_marks = np.arange(len(classes))\n",
        "    plt.xticks(tick_marks, classes, rotation=45)\n",
        "    plt.yticks(tick_marks, classes)\n",
        "    if normalize:\n",
        "        cm = cm.astype('float') / cm.sum(axis=1)[:, np.newaxis]\n",
        "        cm = np.around(cm, decimals=2)\n",
        "        cm[np.isnan(cm)] = 0.0\n",
        "    thresh = cm.max() / 2.\n",
        "    for i, j in itertools.product(range(cm.shape[0]), range(cm.shape[1])):\n",
        "        plt.text(j, i, cm[i, j],\n",
        "                 horizontalalignment=\"center\",\n",
        "                 color=\"white\" if cm[i, j] > thresh else \"black\")\n",
        "    plt.tight_layout()\n",
        "    plt.ylabel('True label')\n",
        "    plt.xlabel('Predicted label')"
      ],
      "metadata": {
        "id": "qxIy0k-jpT00"
      },
      "execution_count": null,
      "outputs": []
    },
    {
      "cell_type": "code",
      "source": [
        "# Some reports\n",
        "from sklearn.metrics import classification_report, confusion_matrix\n",
        "import numpy as np\n",
        "\n",
        "#Confution Matrix and Classification Report\n",
        "Y_pred = model.predict(test_generator)#, nb_test_samples // BATCH_SIZE, workers=1)\n",
        "y_pred = np.argmax(Y_pred, axis=1)\n",
        "target_names = [\"Brown Plant Hopper\", \"Rice Gall Midge\", \"Rice Leaf Hopper\", \"Rice Leaf Roller\", \"Stem Borer\"]\n",
        "\n",
        "#Confution Matrix\n",
        "cm = confusion_matrix(test_generator.classes, y_pred)\n",
        "plot_confusion_matrix(cm, target_names, normalize=False, title='Confusion Matrix')\n",
        "print('Classification Report')\n",
        "print(classification_report(test_generator.classes, y_pred, target_names=target_names))"
      ],
      "metadata": {
        "colab": {
          "base_uri": "https://localhost:8080/",
          "height": 925
        },
        "id": "E4ZjSrdkpfaz",
        "outputId": "da3f5b1c-8a26-4155-9dca-edc363b55845"
      },
      "execution_count": null,
      "outputs": [
        {
          "output_type": "stream",
          "name": "stdout",
          "text": [
            "Classification Report\n",
            "                    precision    recall  f1-score   support\n",
            "\n",
            "Brown Plant Hopper       0.40      0.40      0.40         5\n",
            "   Rice Gall Midge       0.00      0.00      0.00         5\n",
            "  Rice Leaf Hopper       0.00      0.00      0.00         5\n",
            "  Rice Leaf Roller       0.40      0.40      0.40         5\n",
            "        Stem Borer       0.20      0.20      0.20         5\n",
            "\n",
            "          accuracy                           0.20        25\n",
            "         macro avg       0.20      0.20      0.20        25\n",
            "      weighted avg       0.20      0.20      0.20        25\n",
            "\n"
          ]
        },
        {
          "output_type": "display_data",
          "data": {
            "image/png": "[encoded data removed]",
            "text/plain": [
              "<Figure size 720x720 with 2 Axes>"
            ]
          },
          "metadata": {
            "needs_background": "light"
          }
        }
      ]
    },
    {
      "cell_type": "markdown",
      "source": [
        ""
      ],
      "metadata": {
        "id": "IPEZnjSnpf5q"
      }
    },
    {
      "cell_type": "code",
      "source": [
        "plt.plot(history.history['acc'])\n",
        "plt.plot(history.history['val_acc'])\n",
        "plt.title('model accuracy')\n",
        "plt.ylabel('accuracy')\n",
        "plt.xlabel('epoch')\n",
        "plt.legend(['train', 'val'], loc='upper left')\n",
        "plt.show()"
      ],
      "metadata": {
        "colab": {
          "base_uri": "https://localhost:8080/",
          "height": 295
        },
        "id": "hBL24h3NfiGD",
        "outputId": "07bb071b-b264-4726-fc5c-a94d6eae524e"
      },
      "execution_count": null,
      "outputs": [
        {
          "output_type": "display_data",
          "data": {
            "image/png": "[encoded data removed]",
            "text/plain": [
              "<Figure size 432x288 with 1 Axes>"
            ]
          },
          "metadata": {
            "needs_background": "light"
          }
        }
      ]
    },
    {
      "cell_type": "code",
      "source": [
        "plt.plot(history.history['loss'])\n",
        "plt.plot(history.history['val_loss'])\n",
        "plt.title('model loss')\n",
        "plt.ylabel('loss')\n",
        "plt.xlabel('epoch')\n",
        "plt.legend(['train', 'val'], loc='upper left')\n",
        "plt.show()"
      ],
      "metadata": {
        "id": "mN9iqO1hf9Zd",
        "outputId": "58ed4717-6da0-46f5-c694-99597df791cc",
        "colab": {
          "base_uri": "https://localhost:8080/",
          "height": 295
        }
      },
      "execution_count": null,
      "outputs": [
        {
          "output_type": "display_data",
          "data": {
            "image/png": "[encoded data removed]",
            "text/plain": [
              "<Figure size 432x288 with 1 Axes>"
            ]
          },
          "metadata": {
            "needs_background": "light"
          }
        }
      ]
    },
    {
      "cell_type": "code",
      "source": [
        "import seaborn as sn\n",
        "import pandas as pd\n",
        "import matplotlib.pyplot as plt\n",
        "\n",
        "#Confusion Matrix and Classification Report\n",
        "from sklearn.metrics import classification_report\n",
        "from sklearn.metrics import confusion_matrix\n",
        "\n",
        "Y_pred = model.predict(test_generator, 100//20+1)\n",
        "y_pred = np.argmax(Y_pred, axis=1)\n",
        "\n",
        "print('Confusion Matrix')\n",
        "cm= confusion_matrix(test_generator.classes, y_pred)\n",
        "print(cm)\n",
        "\n",
        "target_names = [\"Brown Plant Hopper\", \"Rice Gall Midge\", \"Rice Leaf Hopper\", \"Rice Leaf Roller\", \"Stem Borer\"]\n",
        "\n",
        "array= cm\n",
        "df_cm = pd.DataFrame(array, index = [i for i in target_names],\n",
        "                  columns = [i for i in target_names])\n",
        "plt.figure(figsize = (15,10))\n",
        "sn.heatmap(df_cm, annot=True)\n",
        "\n",
        "print('Classification Report')\n",
        "print(classification_report(test_generator.classes, y_pred, target_names=target_names))"
      ],
      "metadata": {
        "colab": {
          "base_uri": "https://localhost:8080/",
          "height": 926
        },
        "id": "eGTpAdDsx0qq",
        "outputId": "8bd0080e-ea84-425e-d588-f96ac74ab15c"
      },
      "execution_count": null,
      "outputs": [
        {
          "output_type": "stream",
          "name": "stdout",
          "text": [
            "Confusion Matrix\n",
            "[[2 0 0 3 0]\n",
            " [0 3 0 1 1]\n",
            " [2 0 1 0 2]\n",
            " [0 1 4 0 0]\n",
            " [1 1 0 1 2]]\n",
            "Classification Report\n",
            "                    precision    recall  f1-score   support\n",
            "\n",
            "Brown Plant Hopper       0.40      0.40      0.40         5\n",
            "   Rice Gall Midge       0.60      0.60      0.60         5\n",
            "  Rice Leaf Hopper       0.20      0.20      0.20         5\n",
            "  Rice Leaf Roller       0.00      0.00      0.00         5\n",
            "        Stem Borer       0.40      0.40      0.40         5\n",
            "\n",
            "          accuracy                           0.32        25\n",
            "         macro avg       0.32      0.32      0.32        25\n",
            "      weighted avg       0.32      0.32      0.32        25\n",
            "\n"
          ]
        },
        {
          "output_type": "display_data",
          "data": {
            "image/png": "[encoded data removed]",
            "text/plain": [
              "<Figure size 1080x720 with 2 Axes>"
            ]
          },
          "metadata": {
            "needs_background": "light"
          }
        }
      ]
    }
  ],
  "metadata": {
    "colab": {
      "name": "Xception.ipynb",
      "provenance": []
    },
    "kernelspec": {
      "display_name": "Python 3",
      "name": "python3"
    },
    "language_info": {
      "name": "python"
    }
  },
  "nbformat": 4,
  "nbformat_minor": 0
}