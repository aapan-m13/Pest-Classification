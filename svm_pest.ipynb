{
  "nbformat": 4,
  "nbformat_minor": 0,
  "metadata": {
    "colab": {
      "name": "svm_pest.ipynb",
      "provenance": []
    },
    "kernelspec": {
      "name": "python3",
      "display_name": "Python 3"
    },
    "language_info": {
      "name": "python"
    },
    "accelerator": "GPU"
  },
  "cells": [
    {
      "cell_type": "markdown",
      "source": [
        "#SVM"
      ],
      "metadata": {
        "id": "rYO9tvp177qR"
      }
    },
    {
      "cell_type": "code",
      "source": [
        "from google.colab import drive\n",
        "drive.mount('/content/drive')"
      ],
      "metadata": {
        "colab": {
          "base_uri": "https://localhost:8080/"
        },
        "id": "ixlpNJjXXtUv",
        "outputId": "1e2bf1ed-41b2-46ea-a93b-a6bb547da6fe"
      },
      "execution_count": null,
      "outputs": [
        {
          "output_type": "stream",
          "name": "stdout",
          "text": [
            "Drive already mounted at /content/drive; to attempt to forcibly remount, call drive.mount(\"/content/drive\", force_remount=True).\n"
          ]
        }
      ]
    },
    {
      "cell_type": "code",
      "source": [
        "!pip install opencv-python==3.4.2.17\n",
        "!pip install opencv-contrib-python==3.4.2.17\n",
        "!pip install yellowbrick"
      ],
      "metadata": {
        "colab": {
          "base_uri": "https://localhost:8080/"
        },
        "id": "MyBtsAh6X2sj",
        "outputId": "3b47925c-59ec-4d5d-a4a6-b7d3ba311c24"
      },
      "execution_count": null,
      "outputs": [
        {
          "output_type": "stream",
          "name": "stdout",
          "text": [
            "Requirement already satisfied: opencv-python==3.4.2.17 in /usr/local/lib/python3.7/dist-packages (3.4.2.17)\n",
            "Requirement already satisfied: numpy>=1.14.5 in /usr/local/lib/python3.7/dist-packages (from opencv-python==3.4.2.17) (1.19.5)\n",
            "Requirement already satisfied: opencv-contrib-python==3.4.2.17 in /usr/local/lib/python3.7/dist-packages (3.4.2.17)\n",
            "Requirement already satisfied: numpy>=1.14.5 in /usr/local/lib/python3.7/dist-packages (from opencv-contrib-python==3.4.2.17) (1.19.5)\n",
            "Requirement already satisfied: yellowbrick in /usr/local/lib/python3.7/dist-packages (1.3.post1)\n",
            "Requirement already satisfied: cycler>=0.10.0 in /usr/local/lib/python3.7/dist-packages (from yellowbrick) (0.11.0)\n",
            "Requirement already satisfied: matplotlib!=3.0.0,>=2.0.2 in /usr/local/lib/python3.7/dist-packages (from yellowbrick) (3.2.2)\n",
            "Requirement already satisfied: numpy<1.20,>=1.16.0 in /usr/local/lib/python3.7/dist-packages (from yellowbrick) (1.19.5)\n",
            "Requirement already satisfied: scikit-learn>=0.20 in /usr/local/lib/python3.7/dist-packages (from yellowbrick) (1.0.2)\n",
            "Requirement already satisfied: scipy>=1.0.0 in /usr/local/lib/python3.7/dist-packages (from yellowbrick) (1.4.1)\n",
            "Requirement already satisfied: pyparsing!=2.0.4,!=2.1.2,!=2.1.6,>=2.0.1 in /usr/local/lib/python3.7/dist-packages (from matplotlib!=3.0.0,>=2.0.2->yellowbrick) (3.0.6)\n",
            "Requirement already satisfied: kiwisolver>=1.0.1 in /usr/local/lib/python3.7/dist-packages (from matplotlib!=3.0.0,>=2.0.2->yellowbrick) (1.3.2)\n",
            "Requirement already satisfied: python-dateutil>=2.1 in /usr/local/lib/python3.7/dist-packages (from matplotlib!=3.0.0,>=2.0.2->yellowbrick) (2.8.2)\n",
            "Requirement already satisfied: six>=1.5 in /usr/local/lib/python3.7/dist-packages (from python-dateutil>=2.1->matplotlib!=3.0.0,>=2.0.2->yellowbrick) (1.15.0)\n",
            "Requirement already satisfied: threadpoolctl>=2.0.0 in /usr/local/lib/python3.7/dist-packages (from scikit-learn>=0.20->yellowbrick) (3.0.0)\n",
            "Requirement already satisfied: joblib>=0.11 in /usr/local/lib/python3.7/dist-packages (from scikit-learn>=0.20->yellowbrick) (1.1.0)\n"
          ]
        }
      ]
    },
    {
      "cell_type": "code",
      "source": [
        "import os, sys\n",
        "import random\n",
        "import math\n",
        "import numpy as np\n",
        "import skimage.io\n",
        "import skimage.transform\n",
        "import matplotlib\n",
        "import matplotlib.pyplot as plt\n",
        "import glob\n",
        "from skimage.color import rgb2gray\n",
        "from skimage import feature\n",
        "import cv2\n",
        "from sklearn.svm import LinearSVC\n",
        "from google.colab.patches import cv2_imshow\n",
        "from tqdm import tqdm\n",
        "import copy\n",
        "from skimage.io import imread\n",
        "from skimage.transform import resize\n",
        "import pandas as pd\n",
        "from keras.models import load_model\n",
        "import sklearn\n",
        "from sklearn.metrics import accuracy_score, f1_score, precision_score, recall_score, classification_report, confusion_matrix\n",
        "from skimage.feature import hog\n",
        "from skimage import data, exposure"
      ],
      "metadata": {
        "id": "5VFbQaSKX5Pt"
      },
      "execution_count": null,
      "outputs": []
    },
    {
      "cell_type": "code",
      "source": [
        "os.chdir(\"/content/drive/My Drive/pestdet/pestdet/Dataset\")\n",
        "sys.path.append(\"/content/drive/My Drive/pestdet/pestdet/Dataset\")\n",
        "  \n",
        "# Root directory of the project\n",
        "ROOT_DIR = os.path.abspath(\".\")\n",
        "sys.path.append(ROOT_DIR)"
      ],
      "metadata": {
        "id": "7jJL5KK2YDfR"
      },
      "execution_count": null,
      "outputs": []
    },
    {
      "cell_type": "code",
      "source": [
        "def lbp(nP, r, img):\n",
        "  lbp = feature.local_binary_pattern(img, nP, r, method=\"uniform\")\n",
        "  return lbp"
      ],
      "metadata": {
        "id": "J44da0dJF_J5"
      },
      "execution_count": null,
      "outputs": []
    },
    {
      "cell_type": "code",
      "source": [
        "# images = skimage.io.imread_collection(\"/content/drive/My Drive/Colab Notebooks/Thesis/Dataset/indoor/Indoor.2.jpg\")\n",
        "images = skimage.io.imread_collection(\"/content/drive/My Drive/pestdet/Dataset/Brown Plant Hopper/04371.jpg\")\n",
        "plt.figure(figsize=(50,50), dpi = 80)\n",
        "columns = 15\n",
        "\n",
        "for (i, image) in enumerate(images):\n",
        "  plt.subplot(len(images) / columns + 1, columns, i + 1)\n",
        "  plt.imshow(image)"
      ],
      "metadata": {
        "colab": {
          "base_uri": "https://localhost:8080/",
          "height": 34
        },
        "id": "ji1ZBbHRYM98",
        "outputId": "d6086c68-9ec9-42ef-9b07-8c8efe40e47a"
      },
      "execution_count": null,
      "outputs": [
        {
          "output_type": "display_data",
          "data": {
            "text/plain": [
              "<Figure size 4000x4000 with 0 Axes>"
            ]
          },
          "metadata": {}
        }
      ]
    },
    {
      "cell_type": "code",
      "source": [
        "images = skimage.io.imread_collection(\"/content/drive/My Drive/pestdet/Dataset/Brown Plant Hopper/04371.jpg\")\n",
        "plt.figure(figsize=(50,50), dpi = 80)\n",
        "columns = 15\n",
        "for (i, image) in enumerate(images):\n",
        "  plt.subplot(len(images)/ columns + 1, columns, i+1 )\n",
        "  blurr = cv2.GaussianBlur(image,(5,5),1)\n",
        "  plt.imshow(blurr)"
      ],
      "metadata": {
        "colab": {
          "base_uri": "https://localhost:8080/",
          "height": 34
        },
        "id": "37h6PvMKYgCY",
        "outputId": "c0244d41-ed65-401e-d3d6-5a0d7d67f8de"
      },
      "execution_count": null,
      "outputs": [
        {
          "output_type": "display_data",
          "data": {
            "text/plain": [
              "<Figure size 4000x4000 with 0 Axes>"
            ]
          },
          "metadata": {}
        }
      ]
    },
    {
      "cell_type": "code",
      "source": [
        "plt.figure(figsize=(50,50), dpi = 80)\n",
        "columns = 15\n",
        "\n",
        "for (i, image) in enumerate(images):\n",
        "  img = skimage.transform.resize(image, (32,32),\n",
        "                       anti_aliasing=True)\n",
        "  gray = rgb2gray(img)\n",
        "  lbpRslt = lbp(16, 8, gray)\n",
        "  plt.subplot(len(images) / columns + 1, columns, i + 1)\n",
        "  plt.imshow(lbpRslt, cmap='gray')"
      ],
      "metadata": {
        "colab": {
          "base_uri": "https://localhost:8080/",
          "height": 34
        },
        "id": "AjQAKewVYqpg",
        "outputId": "28eee6bb-5689-4103-8747-2bbbd84d7d1f"
      },
      "execution_count": null,
      "outputs": [
        {
          "output_type": "display_data",
          "data": {
            "text/plain": [
              "<Figure size 4000x4000 with 0 Axes>"
            ]
          },
          "metadata": {}
        }
      ]
    },
    {
      "cell_type": "code",
      "source": [
        "plt.figure(figsize=(50,50), dpi = 80)\n",
        "columns = 15\n",
        "\n",
        "for (i, image) in enumerate(images):\n",
        "  img = skimage.transform.resize(image, (32,32),\n",
        "                       anti_aliasing=True)\n",
        "  gray = rgb2gray(img)\n",
        "  lbpRslt = lbp(32, 8, gray)\n",
        "  plt.subplot(len(images) / columns + 1, columns, i + 1)\n",
        "  plt.imshow(lbpRslt, cmap='gray')"
      ],
      "metadata": {
        "colab": {
          "base_uri": "https://localhost:8080/",
          "height": 34
        },
        "id": "j-BncyyzYuXq",
        "outputId": "1fa9a56c-d712-4f96-c742-063989504c7e"
      },
      "execution_count": null,
      "outputs": [
        {
          "output_type": "display_data",
          "data": {
            "text/plain": [
              "<Figure size 4000x4000 with 0 Axes>"
            ]
          },
          "metadata": {}
        }
      ]
    },
    {
      "cell_type": "code",
      "source": [
        "plt.figure(figsize=(50,50), dpi = 80)\n",
        "columns = 15\n",
        "\n",
        "for (i, image) in enumerate(images):\n",
        "  img = skimage.transform.resize(image, (32,32),\n",
        "                       anti_aliasing=True)\n",
        "  gray = rgb2gray(img)\n",
        "  lbpRslt = lbp(40, 8, gray)\n",
        "  plt.subplot(len(images) / columns + 1, columns, i + 1)\n",
        "  plt.imshow(lbpRslt, cmap='gray')"
      ],
      "metadata": {
        "colab": {
          "base_uri": "https://localhost:8080/",
          "height": 34
        },
        "id": "TgMSE89oYx76",
        "outputId": "d6eba45d-48d9-4558-8425-017cb6867e19"
      },
      "execution_count": null,
      "outputs": [
        {
          "output_type": "display_data",
          "data": {
            "text/plain": [
              "<Figure size 4000x4000 with 0 Axes>"
            ]
          },
          "metadata": {}
        }
      ]
    },
    {
      "cell_type": "code",
      "source": [
        "# images = skimage.io.imread_collection(\"/content/drive/My Drive/Colab Notebooks/Thesis/Dataset/indoor/Indoor.2.jpg\")\n",
        "images = skimage.io.imread_collection(\"/content/drive/My Drive/pestdet/Dataset/Brown Plant Hopper/04371.jpg\")\n",
        "#plt.figure(figsize=(50,50), dpi = 80)\n",
        "columns = 15\n",
        "for (i, image) in enumerate(images):\n",
        "  #plt.subplot(len(images)/ columns + 1, columns, i+1 )\n",
        "#   gray = cv2.cvtColor(image, cv2.COLOR_BGR2GRAY)\n",
        "#   sift = cv2.xfeatures2d.SIFT_create()\n",
        "#   (kps, descs) = sift.detectAndCompute(gray, None)\n",
        "#   print(descs)\n",
        "  fd, hog_image = hog(image, orientations=8, pixels_per_cell=(16, 16),\n",
        "                    cells_per_block=(1, 1), visualize=True)\n",
        "  lbpRslt = lbp(16, 8, hog_image)\n",
        "#   img_1 = cv2.drawKeypoints(gray,kps,image)\n",
        "  fig, axs = plt.subplots(1,2,figsize=(10,10))\n",
        "  axs[0].imshow(hog_image)\n",
        "  axs[1].imshow(lbpRslt,cmap='gray')\n",
        "  "
      ],
      "metadata": {
        "id": "cjwPgG32Y1HB"
      },
      "execution_count": null,
      "outputs": []
    },
    {
      "cell_type": "code",
      "source": [
        "IMG_SIZE = 100\n",
        "# DATADIR = (\"/content/drive/My Drive/pestdet/Dataset\")\n",
        "# TEST_DATADIR = (\"/content/drive/My Drive/Colab Notebooks/Thesis/Dataset/test\")\n",
        "# CATEGORIES = [\"indoor\", \"outdoor\"]\n",
        "\n",
        "DATADIR = \"/content/drive/My Drive/pestdet/pestdet/Dataset/Train\"\n",
        "CATEGORIES = [\"Stem Borer\", \"Rice Gall Midge\", \"Rice Leaf Hopper\", \"Rice Leaf Roller\", \"Brown Plant Hopper\"]\n",
        "TEST_DATADIR = \"/content/drive/My Drive/pestdet/pestdet/Dataset/Valid\""
      ],
      "metadata": {
        "id": "qAtQ0XQfY_c4"
      },
      "execution_count": null,
      "outputs": []
    },
    {
      "cell_type": "code",
      "source": [
        "flat_data_arr_svm = []\n",
        "target_arr_svm = []\n",
        "\n",
        "for i in CATEGORIES:\n",
        "    \n",
        "    print(f'loading... category : {i}')\n",
        "    path=os.path.join(DATADIR,i)\n",
        "    for img in os.listdir(path):\n",
        "        img_array=imread(os.path.join(path,img))\n",
        "        img_resized=resize(img_array,(150,150,3))\n",
        "        flat_data_arr_svm.append(img_resized.flatten())\n",
        "        target_arr_svm.append(CATEGORIES.index(i))\n",
        "    print(f'loaded category:{i} successfully')\n",
        "\n",
        "flat_data_svm=np.array(flat_data_arr_svm)\n",
        "target_svm=np.array(target_arr_svm)\n",
        "df=pd.DataFrame(flat_data_svm) #dataframe\n",
        "df['Target']=target_svm\n",
        "x_svm = df.iloc[:,:-1] #input data \n",
        "y_svm = df.iloc[:,-1] #output data"
      ],
      "metadata": {
        "colab": {
          "base_uri": "https://localhost:8080/"
        },
        "id": "W95qj4RkZllU",
        "outputId": "a3890813-f922-43d9-8235-790627ecbfb9"
      },
      "execution_count": null,
      "outputs": [
        {
          "output_type": "stream",
          "name": "stdout",
          "text": [
            "loading... category : Stem Borer\n",
            "loaded category:Stem Borer successfully\n",
            "loading... category : Rice Gall Midge\n",
            "loaded category:Rice Gall Midge successfully\n",
            "loading... category : Rice Leaf Hopper\n",
            "loaded category:Rice Leaf Hopper successfully\n",
            "loading... category : Rice Leaf Roller\n",
            "loaded category:Rice Leaf Roller successfully\n",
            "loading... category : Brown Plant Hopper\n",
            "loaded category:Brown Plant Hopper successfully\n"
          ]
        }
      ]
    },
    {
      "cell_type": "code",
      "source": [
        "print(x_svm)\n",
        "print(y_svm)"
      ],
      "metadata": {
        "colab": {
          "base_uri": "https://localhost:8080/"
        },
        "id": "dwz_0kKDZrPx",
        "outputId": "0876a334-75e0-4f4e-9c6c-7db5b222f8b8"
      },
      "execution_count": null,
      "outputs": [
        {
          "output_type": "stream",
          "name": "stdout",
          "text": [
            "         0         1         2      ...     67497     67498     67499\n",
            "0     0.422013  0.437699  0.308288  ...  0.585757  0.601444  0.405365\n",
            "1     0.192157  0.274510  0.149009  ...  0.114170  0.164706  0.047190\n",
            "2     0.315132  0.877551  0.893087  ...  0.291085  0.976177  0.987942\n",
            "3     0.246614  0.493673  0.215242  ...  0.333778  0.615686  0.345542\n",
            "4     0.359451  0.492784  0.532000  ...  0.325233  0.210213  0.155233\n",
            "...        ...       ...       ...  ...       ...       ...       ...\n",
            "1395  0.992157  0.992157  0.992157  ...  0.929333  0.870588  0.756863\n",
            "1396  0.622118  0.465908  0.244000  ...  0.352941  0.231373  0.047059\n",
            "1397  0.502996  0.691231  0.259859  ...  0.662196  0.764157  0.480743\n",
            "1398  0.836183  0.711921  0.479777  ...  0.323085  0.374065  0.119620\n",
            "1399  0.911765  0.915686  0.892157  ...  0.898039  0.862745  0.839216\n",
            "\n",
            "[1400 rows x 67500 columns]\n",
            "0       0\n",
            "1       0\n",
            "2       0\n",
            "3       0\n",
            "4       0\n",
            "       ..\n",
            "1395    4\n",
            "1396    4\n",
            "1397    4\n",
            "1398    4\n",
            "1399    4\n",
            "Name: Target, Length: 1400, dtype: int64\n"
          ]
        }
      ]
    },
    {
      "cell_type": "code",
      "source": [
        "from sklearn import svm\n",
        "from sklearn.model_selection import GridSearchCV\n",
        "\n",
        "#param_grid_linear={'C':[1],'gamma':[0.1],'kernel':['linear']}\n",
        "#param_grid_rbf={'C':[1],'gamma':[0.1],'kernel':['rbf']}\n",
        "param_grid_poly={'C':[1],'gamma':[0.1],'kernel':['poly']}\n",
        "\n",
        "svc=svm.SVC(probability=True)\n",
        "\n",
        "#model_svm_linear = GridSearchCV(svc,param_grid_linear, n_jobs = -1) #linear\n",
        "#model_svm_rbf = GridSearchCV(svc,param_grid_rbf, n_jobs = -1) #rbf\n",
        "model_svm_poly = GridSearchCV(svc,param_grid_poly, n_jobs = -1) #poly"
      ],
      "metadata": {
        "id": "wgCEx2j1gTQq"
      },
      "execution_count": null,
      "outputs": []
    },
    {
      "cell_type": "code",
      "source": [
        "from sklearn.model_selection import train_test_split"
      ],
      "metadata": {
        "id": "AAYYXUezga91"
      },
      "execution_count": null,
      "outputs": []
    },
    {
      "cell_type": "code",
      "source": [
        "x_svm_graph = copy.deepcopy(x_svm)\n",
        "y_svm_graph = copy.deepcopy(y_svm)"
      ],
      "metadata": {
        "id": "9s34uXQvgd0A"
      },
      "execution_count": null,
      "outputs": []
    },
    {
      "cell_type": "code",
      "source": [
        "x_train_svm,x_test_svm,y_train_svm,y_test_svm=train_test_split(x_svm,y_svm,test_size=0.20,random_state=77,stratify=y_svm)\n",
        "print('Splitted Successfully')\n",
        "\n",
        "\n",
        "model_svm_poly.fit(x_train_svm,y_train_svm)\n",
        "print('The Model is trained well with the given images linear')"
      ],
      "metadata": {
        "colab": {
          "base_uri": "https://localhost:8080/"
        },
        "id": "4Gu_gCeqghDX",
        "outputId": "40297da0-4ea5-443c-ec67-1e6242b31939"
      },
      "execution_count": null,
      "outputs": [
        {
          "output_type": "stream",
          "name": "stdout",
          "text": [
            "Splitted Successfully\n",
            "The Model is trained well with the given images linear\n"
          ]
        }
      ]
    },
    {
      "cell_type": "code",
      "source": [
        "import seaborn as sn\n",
        "import pandas as pd\n",
        "import matplotlib.pyplot as plt\n",
        "from sklearn.metrics import confusion_matrix\n",
        "\n",
        "y_pred_svm = model_svm_poly.predict(x_test_svm)\n",
        "print(\"The predicted Data is :\")\n",
        "print(y_pred_svm)\n",
        "print(\"The actual data is:\")\n",
        "print(np.array(y_test_svm))\n",
        "print(f\"The model is {accuracy_score(y_pred_svm,y_test_svm)*100}% accurate\")\n",
        "\n",
        "print(\"F1 Score: \", f1_score(y_pred_svm, np.array(y_test_svm), average='micro'))\n",
        "print(\"Precision: \", precision_score(y_pred_svm, np.array(y_test_svm), average='micro'))\n",
        "print(\"Recall: \", recall_score(y_pred_svm, np.array(y_test_svm), average='micro'))\n",
        "\n",
        "cm=confusion_matrix(y_pred_svm, np.array(y_test_svm))\n",
        "print(\"confusion matrix:\", cm)\n",
        "\n",
        "target_names = [\"Brown Plant Hopper\", \"Rice Gall Midge\", \"Rice Leaf Hopper\", \"Rice Leaf Roller\", \"Stem Borer\"]\n",
        "\n",
        "array= cm\n",
        "df_cm = pd.DataFrame(array, index = [i for i in target_names],\n",
        "                  columns = [i for i in target_names])\n",
        "plt.figure(figsize = (15,10))\n",
        "sn.heatmap(df_cm, annot=True)\n",
        "print(classification_report(y_test_svm, y_pred_svm, target_names=target_names))"
      ],
      "metadata": {
        "colab": {
          "base_uri": "https://localhost:8080/",
          "height": 1000
        },
        "id": "-DPLzojOgkm5",
        "outputId": "058601f4-c5bd-4cf5-806e-e31640922ea0"
      },
      "execution_count": null,
      "outputs": [
        {
          "output_type": "stream",
          "name": "stdout",
          "text": [
            "The predicted Data is :\n",
            "[1 2 0 4 1 2 1 3 3 4 2 1 2 0 2 4 1 2 4 4 0 1 1 3 3 0 3 2 2 4 1 3 1 3 4 2 2\n",
            " 0 0 4 3 0 4 1 3 1 3 0 1 3 2 3 0 1 1 2 0 1 1 4 0 3 0 4 1 0 1 4 0 0 3 0 4 4\n",
            " 3 2 0 4 3 2 1 2 0 2 0 3 1 2 4 2 4 0 0 1 3 3 2 3 2 2 0 4 4 1 2 4 2 4 4 3 4\n",
            " 1 1 1 0 3 3 4 1 0 1 2 4 3 4 4 0 2 0 0 1 0 4 2 1 3 4 4 2 0 4 2 1 2 0 3 4 1\n",
            " 4 0 3 1 0 0 0 2 4 4 1 2 1 3 4 0 1 3 2 3 1 3 0 3 0 3 0 1 3 4 1 4 2 1 0 0 2\n",
            " 2 1 0 3 2 1 0 2 1 0 1 3 3 4 0 0 1 3 3 0 2 4 0 2 0 0 1 1 0 1 4 2 4 2 3 2 3\n",
            " 0 3 1 1 3 2 0 1 2 2 3 4 2 2 4 1 2 0 1 2 2 2 3 1 1 4 4 0 1 1 2 3 2 3 3 2 3\n",
            " 2 3 4 3 0 2 3 0 3 1 4 2 4 1 3 2 1 3 3 2 3]\n",
            "The actual data is:\n",
            "[4 2 0 4 1 2 1 3 3 2 2 1 2 0 2 4 1 2 4 4 0 0 1 3 3 0 3 2 4 2 1 3 0 3 0 4 1\n",
            " 4 0 4 3 0 0 1 3 0 3 0 4 3 1 0 0 1 4 3 3 1 1 1 2 0 2 0 1 0 4 2 0 0 3 0 4 4\n",
            " 3 2 0 4 4 2 4 2 0 2 0 3 1 1 4 2 0 0 0 3 3 3 2 3 2 2 0 4 4 1 2 2 2 4 3 3 1\n",
            " 1 1 1 0 4 3 4 1 0 3 2 4 3 4 4 0 2 4 0 1 2 1 2 1 3 4 4 2 0 4 2 1 2 0 3 4 1\n",
            " 4 0 3 1 4 0 0 2 4 4 1 2 1 3 3 0 1 3 0 3 1 4 0 2 0 3 0 4 3 4 1 1 2 1 0 0 1\n",
            " 2 1 0 0 2 1 0 2 1 3 4 3 3 4 0 1 1 3 3 2 0 4 1 2 0 4 4 1 4 1 4 2 4 2 3 4 3\n",
            " 0 3 2 4 3 2 4 0 2 3 3 4 2 4 1 1 1 0 1 2 3 2 2 1 1 4 4 0 1 1 2 4 2 3 2 2 3\n",
            " 3 3 4 3 0 2 4 0 3 1 3 2 3 1 3 1 1 0 2 2 3]\n",
            "The model is 72.85714285714285% accurate\n",
            "F1 Score:  0.7285714285714285\n",
            "Precision:  0.7285714285714285\n",
            "Recall:  0.7285714285714285\n",
            "confusion matrix: [[42  2  4  2  6]\n",
            " [ 4 43  1  2  9]\n",
            " [ 2  6 43  4  4]\n",
            " [ 4  0  4 44  5]\n",
            " [ 4  5  4  4 32]]\n",
            "                    precision    recall  f1-score   support\n",
            "\n",
            "Brown Plant Hopper       0.75      0.75      0.75        56\n",
            "   Rice Gall Midge       0.73      0.77      0.75        56\n",
            "  Rice Leaf Hopper       0.73      0.77      0.75        56\n",
            "  Rice Leaf Roller       0.77      0.79      0.78        56\n",
            "        Stem Borer       0.65      0.57      0.61        56\n",
            "\n",
            "          accuracy                           0.73       280\n",
            "         macro avg       0.73      0.73      0.73       280\n",
            "      weighted avg       0.73      0.73      0.73       280\n",
            "\n"
          ]
        },
        {
          "output_type": "display_data",
          "data": {
            "image/png": "[encoded data removed]",
            "text/plain": [
              "<Figure size 1080x720 with 2 Axes>"
            ]
          },
          "metadata": {
            "needs_background": "light"
          }
        }
      ]
    },
    {
      "cell_type": "code",
      "source": [
        "from yellowbrick.model_selection import LearningCurve\n",
        "\n",
        "model_svm_linear = GridSearchCV(svc,param_grid_linear, n_jobs = -1)\n",
        "\n",
        "visualizer = LearningCurve(model_svm_linear, scoring='r2')\n",
        "\n",
        "x_train_svm,x_test_svm,y_train_svm,y_test_svm=train_test_split(x_svm,y_svm,test_size=0.20,random_state=77,stratify=y_svm)\n",
        "visualizer.fit(x_train_svm, y_train_svm)\n",
        "# visualizer.show()  "
      ],
      "metadata": {
        "id": "Cb3C4nNDTvgX"
      },
      "execution_count": null,
      "outputs": []
    },
    {
      "cell_type": "code",
      "source": [
        "import numpy as np\n",
        "import matplotlib.pyplot as plt\n",
        "from sklearn.naive_bayes import GaussianNB\n",
        "from sklearn.svm import SVC\n",
        "from sklearn.datasets import load_digits\n",
        "from sklearn.model_selection import learning_curve\n",
        "from sklearn.model_selection import ShuffleSplit\n",
        "\n",
        "\n",
        "def plot_learning_curve(estimator, title, X, y, axes=None, ylim=None, cv=None,\n",
        "                        n_jobs=None, train_sizes=np.linspace(.1, 1.0, 5)):\n",
        "\n",
        "    if axes is None:\n",
        "        _, axes = plt.subplots(1, 3, figsize=(20, 5))\n",
        "\n",
        "    axes[0].set_title(title)\n",
        "    if ylim is not None:\n",
        "        axes[0].set_ylim(*ylim)\n",
        "    axes[0].set_xlabel(\"Training examples\")\n",
        "    axes[0].set_ylabel(\"Score\")\n",
        "\n",
        "    train_sizes, train_scores, test_scores, fit_times, _ = learning_curve(estimator, X, y, cv=cv, n_jobs=n_jobs,\n",
        "                       train_sizes=train_sizes,\n",
        "                       return_times=True)\n",
        "    \n",
        "    train_scores_mean = np.mean(train_scores, axis=1)\n",
        "    train_scores_std = np.std(train_scores, axis=1)\n",
        "    test_scores_mean = np.mean(test_scores, axis=1)\n",
        "    test_scores_std = np.std(test_scores, axis=1)\n",
        "    fit_times_mean = np.mean(fit_times, axis=1)\n",
        "    fit_times_std = np.std(fit_times, axis=1)\n",
        "\n",
        "    # Plot learning curve\n",
        "    axes[0].grid()\n",
        "    axes[0].fill_between(train_sizes, train_scores_mean - train_scores_std,\n",
        "                         train_scores_mean + train_scores_std, alpha=0.1,\n",
        "                         color=\"r\")\n",
        "    axes[0].fill_between(train_sizes, test_scores_mean - test_scores_std,\n",
        "                         test_scores_mean + test_scores_std, alpha=0.1,\n",
        "                         color=\"g\")\n",
        "    axes[0].plot(train_sizes, train_scores_mean, 'o-', color=\"r\",\n",
        "                 label=\"Training score\")\n",
        "    axes[0].plot(train_sizes, test_scores_mean, 'o-', color=\"g\",\n",
        "                 label=\"Cross-validation score\")\n",
        "    axes[0].legend(loc=\"best\")\n",
        "\n",
        "    # Plot n_samples vs fit_times\n",
        "    axes[1].grid()\n",
        "    axes[1].plot(train_sizes, fit_times_mean, 'o-')\n",
        "    axes[1].fill_between(train_sizes, fit_times_mean - fit_times_std,\n",
        "                         fit_times_mean + fit_times_std, alpha=0.1)\n",
        "    axes[1].set_xlabel(\"Training examples\")\n",
        "    axes[1].set_ylabel(\"fit_times\")\n",
        "    axes[1].set_title(\"Scalability of the model\")\n",
        "\n",
        "    # Plot fit_time vs score\n",
        "    axes[2].grid()\n",
        "    axes[2].plot(fit_times_mean, test_scores_mean, 'o-')\n",
        "    axes[2].fill_between(fit_times_mean, test_scores_mean - test_scores_std,\n",
        "                         test_scores_mean + test_scores_std, alpha=0.1)\n",
        "    axes[2].set_xlabel(\"fit_times\")\n",
        "    axes[2].set_ylabel(\"Score\")\n",
        "    axes[2].set_title(\"Performance of the model\")\n",
        "\n",
        "    return plt\n",
        "\n",
        "title = r\"Learning Curves (SVM, linear kernel, $\\gamma=0.001$)\"\n",
        "# SVC is more expensive so we do a lower number of CV iterations:\n",
        "cv = ShuffleSplit(n_splits=10, test_size=0.2, random_state=0)\n",
        "estimator = SVC(gamma=0.1, kernel = 'linear')\n",
        "plot_learning_curve(estimator, title, copy.deepcopy(x_svm), copy.deepcopy(y_svm),\n",
        "                    cv=cv, n_jobs=1)\n",
        "\n",
        "plt.show()"
      ],
      "metadata": {
        "id": "PtUtzF35aPrl"
      },
      "execution_count": null,
      "outputs": []
    },
    {
      "cell_type": "code",
      "source": [
        "x_train_svm,x_test_svm,y_train_svm,y_test_svm=train_test_split(x_svm,y_svm,test_size=0.20,random_state=77,stratify=y_svm)\n",
        "print('Splitted Successfully')\n",
        "\n",
        "model_svm_poly.fit(x_train_svm,y_train_svm)\n",
        "print('The Model is trained well with the given images poly')"
      ],
      "metadata": {
        "id": "m-lNzPLfmmWT"
      },
      "execution_count": null,
      "outputs": []
    },
    {
      "cell_type": "code",
      "source": [
        "import seaborn as sn\n",
        "import pandas as pd\n",
        "import matplotlib.pyplot as plt\n",
        "from sklearn.metrics import confusion_matrix\n",
        "\n",
        "y_pred_svm = model_svm_poly.predict(x_test_svm)\n",
        "print(\"The predicted Data is :\")\n",
        "print(y_pred_svm)\n",
        "print(\"The actual data is:\")\n",
        "print(np.array(y_test_svm))\n",
        "print(f\"The model is {accuracy_score(y_pred_svm,y_test_svm)*100}% accurate\")\n",
        "\n",
        "print(\"F1 Score: \", f1_score(y_pred_svm, np.array(y_test_svm), average='micro'))\n",
        "print(\"Precision: \", precision_score(y_pred_svm, np.array(y_test_svm), average='micro'))\n",
        "print(\"Recall: \", recall_score(y_pred_svm, np.array(y_test_svm), average='micro'))\n",
        "\n",
        "cm=confusion_matrix(y_pred_svm, np.array(y_test_svm))\n",
        "print(\"confusion matrix:\", cm)\n",
        "\n",
        "target_names = [\"Brown Plant Hopper\", \"Rice Gall Midge\", \"Rice Leaf Hopper\", \"Rice Leaf Roller\", \"Stem Borer\"]\n",
        "\n",
        "array= cm\n",
        "df_cm = pd.DataFrame(array, index = [i for i in target_names],\n",
        "                  columns = [i for i in target_names])\n",
        "plt.figure(figsize = (15,10))\n",
        "sn.heatmap(df_cm, annot=True)"
      ],
      "metadata": {
        "id": "zehzbtyslocJ"
      },
      "execution_count": null,
      "outputs": []
    },
    {
      "cell_type": "code",
      "source": [
        "from yellowbrick.model_selection import LearningCurve\n",
        "\n",
        "model_svm_poly = GridSearchCV(svc,param_grid_poly, n_jobs = -1)\n",
        "\n",
        "visualizer = LearningCurve(model_svm_poly, scoring='r2')\n",
        "\n",
        "x_train_svm,x_test_svm,y_train_svm,y_test_svm=train_test_split(x_svm,y_svm,test_size=0.20,random_state=77,stratify=y_svm)\n",
        "visualizer.fit(x_train_svm, y_train_svm)\n",
        "# visualizer.show()   "
      ],
      "metadata": {
        "id": "kSKCO7r3xBiz"
      },
      "execution_count": null,
      "outputs": []
    },
    {
      "cell_type": "code",
      "source": [
        "import numpy as np\n",
        "import matplotlib.pyplot as plt\n",
        "from sklearn.naive_bayes import GaussianNB\n",
        "from sklearn.svm import SVC\n",
        "from sklearn.datasets import load_digits\n",
        "from sklearn.model_selection import learning_curve\n",
        "from sklearn.model_selection import ShuffleSplit\n",
        "\n",
        "\n",
        "def plot_learning_curve(estimator, title, X, y, axes=None, ylim=None, cv=None,\n",
        "                        n_jobs=None, train_sizes=np.linspace(.1, 1.0, 5)):\n",
        "\n",
        "    if axes is None:\n",
        "        _, axes = plt.subplots(1, 3, figsize=(20, 5))\n",
        "\n",
        "    axes[0].set_title(title)\n",
        "    if ylim is not None:\n",
        "        axes[0].set_ylim(*ylim)\n",
        "    axes[0].set_xlabel(\"Training examples\")\n",
        "    axes[0].set_ylabel(\"Score\")\n",
        "\n",
        "    train_sizes, train_scores, test_scores, fit_times, _ = learning_curve(estimator, X, y, cv=cv, n_jobs=n_jobs,\n",
        "                       train_sizes=train_sizes,\n",
        "                       return_times=True)\n",
        "    \n",
        "    train_scores_mean = np.mean(train_scores, axis=1)\n",
        "    train_scores_std = np.std(train_scores, axis=1)\n",
        "    test_scores_mean = np.mean(test_scores, axis=1)\n",
        "    test_scores_std = np.std(test_scores, axis=1)\n",
        "    fit_times_mean = np.mean(fit_times, axis=1)\n",
        "    fit_times_std = np.std(fit_times, axis=1)\n",
        "\n",
        "    # Plot learning curve\n",
        "    axes[0].grid()\n",
        "    axes[0].fill_between(train_sizes, train_scores_mean - train_scores_std,\n",
        "                         train_scores_mean + train_scores_std, alpha=0.1,\n",
        "                         color=\"r\")\n",
        "    axes[0].fill_between(train_sizes, test_scores_mean - test_scores_std,\n",
        "                         test_scores_mean + test_scores_std, alpha=0.1,\n",
        "                         color=\"g\")\n",
        "    axes[0].plot(train_sizes, train_scores_mean, 'o-', color=\"r\",\n",
        "                 label=\"Training score\")\n",
        "    axes[0].plot(train_sizes, test_scores_mean, 'o-', color=\"g\",\n",
        "                 label=\"Cross-validation score\")\n",
        "    axes[0].legend(loc=\"best\")\n",
        "\n",
        "    # Plot n_samples vs fit_times\n",
        "    axes[1].grid()\n",
        "    axes[1].plot(train_sizes, fit_times_mean, 'o-')\n",
        "    axes[1].fill_between(train_sizes, fit_times_mean - fit_times_std,\n",
        "                         fit_times_mean + fit_times_std, alpha=0.1)\n",
        "    axes[1].set_xlabel(\"Training examples\")\n",
        "    axes[1].set_ylabel(\"fit_times\")\n",
        "    axes[1].set_title(\"Scalability of the model\")\n",
        "\n",
        "    # Plot fit_time vs score\n",
        "    axes[2].grid()\n",
        "    axes[2].plot(fit_times_mean, test_scores_mean, 'o-')\n",
        "    axes[2].fill_between(fit_times_mean, test_scores_mean - test_scores_std,\n",
        "                         test_scores_mean + test_scores_std, alpha=0.1)\n",
        "    axes[2].set_xlabel(\"fit_times\")\n",
        "    axes[2].set_ylabel(\"Score\")\n",
        "    axes[2].set_title(\"Performance of the model\")\n",
        "\n",
        "    return plt\n",
        "\n",
        "title = r\"Learning Curves (SVM, poly kernel, $\\gamma=0.001$)\"\n",
        "# SVC is more expensive so we do a lower number of CV iterations:\n",
        "cv = ShuffleSplit(n_splits=10, test_size=0.2, random_state=0)\n",
        "estimator = SVC(gamma=0.1, kernel = 'poly')\n",
        "plot_learning_curve(estimator, title, copy.deepcopy(x_svm), copy.deepcopy(y_svm),\n",
        "                    cv=cv, n_jobs=1)\n",
        "\n",
        "plt.show()"
      ],
      "metadata": {
        "id": "gzsiuxj0xCzN"
      },
      "execution_count": null,
      "outputs": []
    }
  ]
}